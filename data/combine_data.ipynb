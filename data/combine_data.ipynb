{
 "cells": [
  {
   "cell_type": "code",
   "execution_count": null,
   "id": "598969ec",
   "metadata": {},
   "outputs": [],
   "source": [
    "import pandas as pd\n",
    "import glob\n",
    "import os\n",
    "\n",
    "# Get all monthly CSVs\n",
    "file_pattern = \"d:/NITRO_PREDICTION/data/Delhi_Weather_*_2024.csv\"\n",
    "csv_files = glob.glob(file_pattern)\n",
    "\n",
    "print(\"Files found:\", csv_files)\n",
    "\n",
    "if not csv_files:\n",
    "    raise FileNotFoundError(\"❌ No CSV files matched the pattern.\")\n",
    "\n",
    "# Combine all into one DataFrame\n",
    "combined_df = pd.concat([pd.read_csv(file) for file in csv_files], ignore_index=True)\n",
    "\n",
    "# Convert 'date' column to datetime (dayfirst since format is DD-MM-YYYY)\n",
    "combined_df['date'] = pd.to_datetime(combined_df['date'], dayfirst=True)\n",
    "\n",
    "# Sort by date just to be sure\n",
    "combined_df = combined_df.sort_values('date')\n",
    "\n",
    "# Export\n",
    "combined_df.to_csv(\"d:/NITRO_PREDICTION/data/Weather_Combined_2024.csv\", index=False)\n",
    "\n",
    "print(\"✅ Combined CSV saved as 'Weather_Combined_2024.csv'\")\n"
   ]
  },
  {
   "cell_type": "code",
   "execution_count": null,
   "id": "426b77f4",
   "metadata": {},
   "outputs": [
    {
     "name": "stdout",
     "output_type": "stream",
     "text": [
      "Merged NO2 and NDVI saved as Delhi_NO2_NDVI_Combined.csv\n"
     ]
    }
   ],
   "source": [
    "import pandas as pd\n",
    "\n",
    "# Load NO2 and NDVI CSVs\n",
    "no2_df = pd.read_csv(\"D:/NITRO_PREDICTION/data/NO2_Daily_CSV.csv\")     # replace with actual filename\n",
    "ndvi_df = pd.read_csv(\"D:/NITRO_PREDICTION/data/NDVI_Daily_.csv\")   # replace with actual filename\n",
    "\n",
    "# Convert 'date' from ddmmyyyy to yyyymmdd\n",
    "no2_df['date'] = pd.to_datetime(no2_df['date'], format='%d-%m-%Y').dt.strftime('%Y-%m-%d')\n",
    "ndvi_df['date'] = pd.to_datetime(ndvi_df['date'], format='%d-%m-%Y').dt.strftime('%Y-%m-%d')\n",
    "\n",
    "# Merge on 'date'\n",
    "merged_df = pd.merge(no2_df, ndvi_df, on='date', how='inner')\n",
    "\n",
    "# Save result\n",
    "merged_df.to_csv(\"NO2_NDVI_Combined.csv\", index=False)\n",
    "print(\"Merged NO2 and NDVI saved as NO2_NDVI_Combined.csv\")\n"
   ]
  },
  {
   "cell_type": "code",
   "execution_count": null,
   "id": "d911dc87",
   "metadata": {},
   "outputs": [
    {
     "name": "stdout",
     "output_type": "stream",
     "text": [
      "Final combined dataset saved as Delhi_NO2_NDVI_Weather_Combined.csv\n"
     ]
    }
   ],
   "source": [
    "no2_ndvi_df = pd.read_csv(\"D:/NITRO_PREDICTION/data/NO2_NDVI_Combined.csv\")\n",
    "weather_df = pd.read_csv(\"D:/NITRO_PREDICTION/data/Weather_Combined_2024.csv\")  # replace with actual combined weather filename\n",
    "\n",
    "# Ensure date columns are string and formatted the same\n",
    "no2_ndvi_df['date'] = no2_ndvi_df['date'].astype(str)\n",
    "weather_df['date'] = weather_df['date'].astype(str)\n",
    "\n",
    "# Merge all features on 'date'\n",
    "full_df = pd.merge(weather_df, no2_ndvi_df, on='date', how='inner')\n",
    "\n",
    "# Save the final dataset\n",
    "full_df.to_csv(\"NO2_NDVI_Weather_Combined.csv\", index=False)\n",
    "print(\"Final combined dataset saved as NO2_NDVI_Weather_Combined.csv\")\n"
   ]
  }
 ],
 "metadata": {
  "kernelspec": {
   "display_name": "Python 3",
   "language": "python",
   "name": "python3"
  },
  "language_info": {
   "codemirror_mode": {
    "name": "ipython",
    "version": 3
   },
   "file_extension": ".py",
   "mimetype": "text/x-python",
   "name": "python",
   "nbconvert_exporter": "python",
   "pygments_lexer": "ipython3",
   "version": "3.12.6"
  }
 },
 "nbformat": 4,
 "nbformat_minor": 5
}
